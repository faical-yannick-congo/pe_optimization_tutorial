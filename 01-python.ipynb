{
 "cells": [
  {
   "cell_type": "markdown",
   "metadata": {},
   "source": [
    "# Pure Python Approach (Standard Libary Only)"
   ]
  },
  {
   "cell_type": "code",
   "execution_count": null,
   "metadata": {},
   "outputs": [],
   "source": [
    "%load_ext memory_profiler\n",
    "%load_ext snakeviz\n",
    "%load_ext cython\n",
    "import holoviews as hv\n",
    "hv.extension('bokeh','matplotlib')\n",
    "from IPython.core import debugger\n",
    "ist = debugger.set_trace"
   ]
  },
  {
   "cell_type": "markdown",
   "metadata": {},
   "source": [
    "We load in the position and box information created in the *intro* notebook. If you haven't run that notebook, this line will not work! (You don't have to read the wall of text, just run the cells...)"
   ]
  },
  {
   "cell_type": "code",
   "execution_count": null,
   "metadata": {},
   "outputs": [],
   "source": [
    "import numpy as np\n",
    "pos = np.loadtxt('data/positions.dat')\n",
    "box = np.loadtxt('data/box.dat')\n",
    "\n",
    "print('Read {:d} positions.'.format(pos.shape[0]))"
   ]
  },
  {
   "cell_type": "markdown",
   "metadata": {},
   "source": [
    "We are going to use a soft potential without a hard-core here because our random generation of positions is going to leave us with overlaps. This potential doesn't diverge at the origin and will essentially represent our coordinate positions as soft blobs. We implement this here in pure python."
   ]
  },
  {
   "cell_type": "code",
   "execution_count": null,
   "metadata": {
    "collapsed": true
   },
   "outputs": [],
   "source": [
    "from math import cos,pi\n",
    "\n",
    "def potentialEnergyFunk(r,width=1.0,height=10.0):\n",
    "    '''\n",
    "    Calculates the (soft) potential energy between two atoms\n",
    "    \n",
    "    Parameters\n",
    "    ----------\n",
    "    r: float\n",
    "        separation distance between two atoms\n",
    "    height: float\n",
    "        breadth of the potential i.e. where the potential goes to zero\n",
    "    width: float\n",
    "        strength/height of the potential\n",
    "    '''\n",
    "    if r<width:\n",
    "        return 0.5 * height * (1 + cos(pi*r/width))\n",
    "    else:\n",
    "        return 0"
   ]
  },
  {
   "cell_type": "markdown",
   "metadata": {},
   "source": [
    "Let's plot the soft potential using some fancy HoloViews + Bokeh magic!"
   ]
  },
  {
   "cell_type": "code",
   "execution_count": null,
   "metadata": {},
   "outputs": [],
   "source": [
    "%%opts Curve [width=600,show_grid=True,height=350]\n",
    "\n",
    "dr = 0.05          # spacing of r points\n",
    "rmax = 10.0        # maximum r value\n",
    "pts = int(rmax/dr) # number of r points\n",
    "r = [dr*i for i in range(pts)]\n",
    "\n",
    "def plotFunk(width,height,label='dynamic'):\n",
    "    \n",
    "    # Need to wrap potentialEnergyFunk for map call below to behave\n",
    "    funk = lambda r: potentialEnergyFunk(r,width,height)\n",
    "    \n",
    "    U = list(map(funk,r))\n",
    "    \n",
    "    return hv.Curve((r,U),kdims=['Separation Distance'],vdims=['Potential Energy'],label=label)\n",
    "    \n",
    "dmap = hv.DynamicMap(plotFunk,kdims=['width','height'])\n",
    "dmap = dmap.redim.range(width=((1.0,10.0)),height=((1.0,5.0)))\n",
    "dmap*plotFunk(10.0,5.0,label='width: 10., height: 5.')*plotFunk(1.0,1.0,label='width: 1., height: 1.')"
   ]
  },
  {
   "cell_type": "code",
   "execution_count": null,
   "metadata": {
    "collapsed": true
   },
   "outputs": [],
   "source": [
    "from math import sqrt\n",
    "\n",
    "def calcTotalEnergy(x,y,z,lx,ly,lz):\n",
    "    '''\n",
    "    Parameters\n",
    "    ----------\n",
    "    x,y,z: lists of floats\n",
    "        1-D lists of cartesian coordinate positions\n",
    "    \n",
    "    lx,ly,lz: floats\n",
    "        simulation box dimensions\n",
    "    '''\n",
    "    \n",
    "    #sanity check\n",
    "    assert len(x) == len(y) == len(z)\n",
    "    \n",
    "    # store half box lengths for minimum image convention\n",
    "    lx2 = lx/2.0\n",
    "    ly2 = ly/2.0\n",
    "    lz2 = lz/2.0\n",
    "    \n",
    "    U = 0\n",
    "    \n",
    "    #The next two loops simply loop over every element in the x, y, and z arrays\n",
    "    for i,(x1,y1,z1) in enumerate(zip(x,y,z)):\n",
    "        for j,(x2,y2,z2) in enumerate(zip(x,y,z)):\n",
    "            \n",
    "            # We only need to consider each pair once\n",
    "            if i>=j:\n",
    "                continue\n",
    "           \n",
    "            dx = abs(x1 - x2)\n",
    "            dy = abs(y1 - y2)\n",
    "            dz = abs(z1 - z2)\n",
    "                \n",
    "            # The next few lines take care of applying the minimum image convention\n",
    "            # This is neccesary because many/most molecular simulations use periodic boundary conditions\n",
    "            if dx > lx2:\n",
    "                dx -= lx\n",
    "            if dy > ly2:\n",
    "                dy -= ly\n",
    "            if dz > lz2:\n",
    "                dz -= lz\n",
    "                \n",
    "            dist = sqrt(dx*dx + dy*dy + dz*dz)\n",
    "            \n",
    "            U += potentialEnergyFunk(dist)\n",
    "    \n",
    "    return U\n",
    "                "
   ]
  },
  {
   "cell_type": "markdown",
   "metadata": {},
   "source": [
    "In order to make this test fair and 'pure python', we need to convert the numpy position and box size arrays to python lists."
   ]
  },
  {
   "cell_type": "code",
   "execution_count": null,
   "metadata": {
    "collapsed": true
   },
   "outputs": [],
   "source": [
    "x,y,z = map(list,pos.T)\n",
    "lx,ly,lz = box"
   ]
  },
  {
   "cell_type": "markdown",
   "metadata": {},
   "source": [
    "In the cell below we are setting up a profiling environment (via the *cell magic* %%prun) and storing the profiling information in prof/python.prof.\n",
    "\n",
    "To visualize profiling output: From cmd line, in the same directory as this notebook run (after running the cell): \n",
    "``` \n",
    "snakeviz --server prof/python.prof\n",
    "```\n",
    "\n",
    "We then run the calcTotalEnergy function to profile its execution performance."
   ]
  },
  {
   "cell_type": "code",
   "execution_count": null,
   "metadata": {},
   "outputs": [],
   "source": [
    "%%prun -D prof/python.prof\n",
    "energy = calcTotalEnergy(x,y,z,lx,ly,lz)"
   ]
  },
  {
   "cell_type": "markdown",
   "metadata": {},
   "source": [
    "While the execution time is extremely important, equally as important is the memory usuage. While we are lucky enough to work on supercomputers which generally have massive amounts of memory, the memory usage in this calculation can scale as poorly as the execution time. In particular, we will see that while certain approaches run significantly faster than pure Python for these (relatively small) system sizes, they would not be sustainable at scale.\n",
    "\n",
    "Below we profile the memory usage of the python function, and then write the max memory and increment to a file."
   ]
  },
  {
   "cell_type": "code",
   "execution_count": null,
   "metadata": {},
   "outputs": [],
   "source": [
    "memprof = %memit -o calcTotalEnergy(x,y,z,lx,ly,lz)\n",
    "\n",
    "usage = memprof.mem_usage[0]\n",
    "incr = memprof.mem_usage[0] - memprof.baseline\n",
    "with open('prof/python.memprof','w') as f:\n",
    "    f.write('{}\\n{}\\n'.format(usage,incr))"
   ]
  },
  {
   "cell_type": "code",
   "execution_count": null,
   "metadata": {},
   "outputs": [],
   "source": [
    "with open('energy/python.dat','w') as f:\n",
    "    f.write('{}\\n'.format(energy))"
   ]
  },
  {
   "cell_type": "code",
   "execution_count": null,
   "metadata": {
    "collapsed": true
   },
   "outputs": [],
   "source": []
  }
 ],
 "metadata": {
  "kernelspec": {
   "display_name": "Python 3",
   "language": "python",
   "name": "python3"
  },
  "language_info": {
   "codemirror_mode": {
    "name": "ipython",
    "version": 3
   },
   "file_extension": ".py",
   "mimetype": "text/x-python",
   "name": "python",
   "nbconvert_exporter": "python",
   "pygments_lexer": "ipython3",
   "version": "3.5.3"
  }
 },
 "nbformat": 4,
 "nbformat_minor": 2
}
