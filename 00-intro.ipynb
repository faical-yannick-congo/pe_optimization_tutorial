{
 "cells": [
  {
   "cell_type": "markdown",
   "metadata": {},
   "source": [
    "# Introduction"
   ]
  },
  {
   "cell_type": "markdown",
   "metadata": {},
   "source": [
    "<img src=\"img/fast.png\" alt=\"Fast\" style=\"width:100px;display:inline-block;\"/>\n",
    "<img src=\"img/python.png\" alt=\"Python\" style=\"width:100px;display:inline-block;\"/>"
   ]
  },
  {
   "cell_type": "markdown",
   "metadata": {},
   "source": [
    "While Python is many things, it is generally not thought of as a performance oriented language. We trade execution speed for ease of programming and rapid development times. Despite this limitation, Python has largely become the standard programming language of science and has given rise to an immense array of toolsets and libraries. Unfortunately, we as scientists want it all. How can we leverage the facile of python while maintaining perfmance?"
   ]
  },
  {
   "cell_type": "markdown",
   "metadata": {},
   "source": [
    "There are a few primary approaches for making our Python code faster:\n",
    "- algorithmic improvements\n",
    "- profiling\n",
    "- performance libraries\n",
    "- parallelization\n",
    "- hardware changes (cpus/gpus/coprocessors, network/cluster improvements)\n",
    "\n",
    "Improvements to the algorithmic approach combined with profiling should always be a scientific programmer's first tools for improving code execution times. If you can improve your code without introducing extra dependecies, you've achieved a win for the day. We will demonstrate the importance of profiling in the following tutorials.\n",
    "\n",
    "Unfortunately, even with determined profiling, there is only so much we can do with vanilla Python. We are fortunate that the Python gurus of the world have been working hard to give us a number of libraries which, on one level or another, seek to make Python more performant:\n",
    "- Numpy\n",
    "- Numba\n",
    "- Cython\n",
    "- Dask\n",
    "\n",
    "Each of these libraries has different use-cases and idioms but they all can be used to speed up Python code. We will explore the use of these libraries in a real, but relatively simple example. "
   ]
  },
  {
   "cell_type": "markdown",
   "metadata": {},
   "source": [
    "**Disclaimer 1**\n",
    "There is another approach to speeding up Python which we will not explore here: replacing the standard python interpreter itself with a speedier version. There are a few notable examples of this (PyPy, Pyston), but we will omit these approaches as mainating multiple Python interpreters is likely outside of the scope of the average scientists interests. "
   ]
  },
  {
   "cell_type": "markdown",
   "metadata": {},
   "source": [
    "**Disclaimer 2**\n",
    "Performance comparisons via microbenchmarks are always inherently biased. A Java programmer comparing Java and C++ approaches is unlikely to write good, idiomatic and performant C++ code. Despite this, they will ultimately reach the conclusion that Java is better because their benchmarks say so. We have done our best below to program idiomatically in each chosen toolset, but these are unlikely to be perfect examples. Reach conclusions at your own risk."
   ]
  },
  {
   "cell_type": "markdown",
   "metadata": {},
   "source": [
    "<img src=\"img/cell_list.png\" alt=\"Fast\" style=\"width: 500px; float: center;\"/>"
   ]
  },
  {
   "cell_type": "markdown",
   "metadata": {},
   "source": [
    "One of my perennial issues with examples in programming is that the examples used to demo a feature or codebase are often far out of line with any sort of real use-case. This makes it difficult to transfer the knowledge from the demo to your workflow. The classic example of this is the use of \"add\" functions in examples. \n",
    "\n",
    "Here, I intend use an example that is exteremely relevant to me: the potential energy calculation of a molecular simulation. This is easily identifiable in the majority of molecular simulations as the primary performance bottleneck. This is because, naively, this calculation scales as $O(n^2)$ because the potential energy is a function of the pair distances between all of the atoms. "
   ]
  },
  {
   "cell_type": "markdown",
   "metadata": {},
   "source": [
    "We start each individual notebook by loading some notebook wide features. Memory profiler and snakeviz are tools we will use to debug our codes. Bokeh and Holoviews are plotting libraries. The debugger was used in the development of this notebook. Hopefully we won't need it here."
   ]
  },
  {
   "cell_type": "code",
   "execution_count": null,
   "metadata": {
    "collapsed": true
   },
   "outputs": [],
   "source": [
    "%load_ext memory_profiler\n",
    "%load_ext snakeviz\n",
    "%load_ext cython\n",
    "import holoviews as hv\n",
    "hv.extension('bokeh','matplotlib')\n",
    "from IPython.core import debugger\n",
    "ist = debugger.set_trace"
   ]
  },
  {
   "cell_type": "markdown",
   "metadata": {},
   "source": [
    "We then generate arrays of position and simulation box information. Rather than using 'real' data, we will just randomly generate positions. You should see below that the positions array is just an N X 3 array where the three columns correspond to x, y, and z coordinate positions.\n",
    "\n",
    "**Warning**\n",
    "Depending on the hardware you are using, you may want to scale down the *num* variable. This value was chosen for my specific laptop but may not be suitable for your machine."
   ]
  },
  {
   "cell_type": "code",
   "execution_count": null,
   "metadata": {},
   "outputs": [],
   "source": [
    "import numpy as np\n",
    "\n",
    "num = 5000\n",
    "lmin = -25 #lower simulation box bound in x, y, and z\n",
    "lmax = +25 #upper simulation box bound in x, y, and z\n",
    "\n",
    "L = lmax - lmin\n",
    "box = np.array([L,L,L])\n",
    "pos = lmin + np.random.random((num,3))*(lmax-lmin)\n",
    "\n",
    "print('Positions Array Shape:',pos.shape)\n",
    "print(pos)\n",
    "print('x min/max: {:+4.2f}/{:+4.2f}'.format(pos.min(0)[0],pos.max(0)[0]))\n",
    "print('y min/max: {:+4.2f}/{:+4.2f}'.format(pos.min(0)[1],pos.max(0)[1]))\n",
    "print('z min/max: {:+4.2f}/{:+4.2f}'.format(pos.min(0)[2],pos.max(0)[2]))"
   ]
  },
  {
   "cell_type": "markdown",
   "metadata": {},
   "source": [
    "We can plot the positions to get a visual picture of our dataset."
   ]
  },
  {
   "cell_type": "code",
   "execution_count": null,
   "metadata": {
    "collapsed": true
   },
   "outputs": [],
   "source": [
    "%%output backend='matplotlib'\n",
    "hv.Scatter3D(pos)"
   ]
  },
  {
   "cell_type": "markdown",
   "metadata": {},
   "source": [
    "Finally, we write these positions to a file so that all of the following examples can calculate on the same data set."
   ]
  },
  {
   "cell_type": "code",
   "execution_count": null,
   "metadata": {
    "collapsed": true
   },
   "outputs": [],
   "source": [
    "np.savetxt('data/positions.dat',pos)\n",
    "np.savetxt('data/box.dat',box)"
   ]
  },
  {
   "cell_type": "code",
   "execution_count": null,
   "metadata": {
    "collapsed": true
   },
   "outputs": [],
   "source": []
  }
 ],
 "metadata": {
  "kernelspec": {
   "display_name": "Python 3",
   "language": "python",
   "name": "python3"
  },
  "language_info": {
   "codemirror_mode": {
    "name": "ipython",
    "version": 3
   },
   "file_extension": ".py",
   "mimetype": "text/x-python",
   "name": "python",
   "nbconvert_exporter": "python",
   "pygments_lexer": "ipython3",
   "version": "3.5.3"
  }
 },
 "nbformat": 4,
 "nbformat_minor": 2
}
