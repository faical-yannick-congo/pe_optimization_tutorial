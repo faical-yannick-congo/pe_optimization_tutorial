{
 "cells": [
  {
   "cell_type": "markdown",
   "metadata": {},
   "source": [
    "# Cython\n"
   ]
  },
  {
   "cell_type": "code",
   "execution_count": null,
   "metadata": {
    "ExecuteTime": {
     "end_time": "2017-08-30T00:20:01.363617Z",
     "start_time": "2017-08-30T00:19:58.552987Z"
    }
   },
   "outputs": [],
   "source": [
    "%load_ext memory_profiler\n",
    "%load_ext snakeviz\n",
    "%load_ext cython\n",
    "import holoviews as hv\n",
    "hv.extension('bokeh','matplotlib')\n",
    "from IPython.core import debugger\n",
    "ist = debugger.set_trace"
   ]
  },
  {
   "cell_type": "markdown",
   "metadata": {},
   "source": [
    "We load in the position and box information created in the *intro* notebook. If you haven't run that notebook, this line will not work! (You don't have to read the wall of text, just run the cells...)"
   ]
  },
  {
   "cell_type": "code",
   "execution_count": null,
   "metadata": {
    "ExecuteTime": {
     "end_time": "2017-08-30T00:20:01.455406Z",
     "start_time": "2017-08-30T00:20:01.366958Z"
    }
   },
   "outputs": [],
   "source": [
    "import numpy as np\n",
    "pos = np.loadtxt('data/positions.dat')\n",
    "box = np.loadtxt('data/box.dat')\n",
    "\n",
    "x,y,z = pos.T\n",
    "lx,ly,lz = box\n",
    "\n",
    "print('Read {:d} positions.'.format(pos.shape[0]))\n",
    "print('x min/max: {:+4.2f}/{:+4.2f}'.format(pos.min(0)[0],pos.max(0)[0]))\n",
    "print('y min/max: {:+4.2f}/{:+4.2f}'.format(pos.min(0)[1],pos.max(0)[1]))\n",
    "print('z min/max: {:+4.2f}/{:+4.2f}'.format(pos.min(0)[2],pos.max(0)[2]))"
   ]
  },
  {
   "cell_type": "code",
   "execution_count": null,
   "metadata": {
    "ExecuteTime": {
     "end_time": "2017-08-30T00:20:01.553241Z",
     "start_time": "2017-08-30T00:20:01.457827Z"
    }
   },
   "outputs": [],
   "source": [
    "%%cython -a\n",
    "from math import cos,pi,sqrt\n",
    "\n",
    "cdef double potentialEnergyFunk1(double r, double width=1.0,double height=10.0):\n",
    "    cdef double U = 0.0\n",
    "    if r<width:\n",
    "        U = 0.5 * height * (1 + cos(pi*r/width))\n",
    "    return U\n",
    "\n",
    "def calcTotalEnergy1(double[:] x, double[:] y, double[:] z, double lx, double ly, double lz):\n",
    "    assert len(x) == len(y) == len(z)\n",
    "    \n",
    "    cdef double lx2 = lx/2.0\n",
    "    cdef double ly2 = ly/2.0\n",
    "    cdef double lz2 = lz/2.0\n",
    "    \n",
    "    cdef double dx,dy,dz,dist\n",
    "    cdef int num_pos =  x.shape[0]\n",
    "    cdef int i,j\n",
    "    \n",
    "    cdef double U = 0\n",
    "    for i in range(num_pos):\n",
    "        for j in range(num_pos):\n",
    "            # We only need to consider each pair once\n",
    "            if i>=j:\n",
    "                continue\n",
    "           \n",
    "            dx = abs(x[i] - x[j])\n",
    "            dy = abs(y[i] - y[j])\n",
    "            dz = abs(z[i] - z[j])\n",
    "                \n",
    "            # The next few lines take care of applying the minimum image convention\n",
    "            # This is neccesary because many/most molecular simulations use periodic boundary conditions\n",
    "            if dx > lx2:\n",
    "                dx -= lx\n",
    "            if dy > ly2:\n",
    "                dy -= ly\n",
    "            if dz > lz2:\n",
    "                dz -= lz\n",
    "                \n",
    "            dist = sqrt(dx*dx + dy*dy + dz*dz)\n",
    "            U += potentialEnergyFunk1(dist)\n",
    "    \n",
    "    return U\n",
    "                "
   ]
  },
  {
   "cell_type": "markdown",
   "metadata": {},
   "source": [
    "Runtime profiling!"
   ]
  },
  {
   "cell_type": "code",
   "execution_count": null,
   "metadata": {
    "ExecuteTime": {
     "end_time": "2017-08-30T00:20:08.073458Z",
     "start_time": "2017-08-30T00:20:07.214319Z"
    }
   },
   "outputs": [],
   "source": [
    "%%prun -D prof/cython1.prof\n",
    "energy = calcTotalEnergy1(x,y,z,lx,ly,lz)"
   ]
  },
  {
   "cell_type": "code",
   "execution_count": null,
   "metadata": {
    "ExecuteTime": {
     "end_time": "2017-08-30T00:20:08.082395Z",
     "start_time": "2017-08-30T00:20:08.076704Z"
    },
    "collapsed": true
   },
   "outputs": [],
   "source": [
    "with open('energy/cython1.dat','w') as f:\n",
    "    f.write('{}\\n'.format(energy))"
   ]
  },
  {
   "cell_type": "markdown",
   "metadata": {},
   "source": [
    "Memory profiling!"
   ]
  },
  {
   "cell_type": "code",
   "execution_count": null,
   "metadata": {
    "ExecuteTime": {
     "end_time": "2017-08-30T00:20:10.628964Z",
     "start_time": "2017-08-30T00:20:09.633257Z"
    }
   },
   "outputs": [],
   "source": [
    "memprof = %memit -o calcTotalEnergy1(x,y,z,lx,ly,lz)\n",
    "\n",
    "usage = memprof.mem_usage[0]\n",
    "incr = memprof.mem_usage[0] - memprof.baseline\n",
    "with open('prof/cython1.memprof','w') as f:\n",
    "    f.write('{}\\n{}\\n'.format(usage,incr))"
   ]
  },
  {
   "cell_type": "markdown",
   "metadata": {},
   "source": [
    "## Round Two: Optimizing the Cython Code"
   ]
  },
  {
   "cell_type": "code",
   "execution_count": null,
   "metadata": {
    "ExecuteTime": {
     "end_time": "2017-08-30T00:21:29.245071Z",
     "start_time": "2017-08-30T00:21:29.161653Z"
    }
   },
   "outputs": [],
   "source": [
    "%%cython -a\n",
    "\n",
    "from libc.math cimport fabs,pi,cos,sqrt\n",
    "cimport cython\n",
    "\n",
    "@cython.cdivision(True) \n",
    "cdef double potentialEnergyFunk2(double r, double width=1.0,double height=10.0):\n",
    "    cdef double U = 0.0\n",
    "    if r<width:\n",
    "        U = 0.5 * height * (1 + cos(pi*r/width))\n",
    "    return U\n",
    "\n",
    "@cython.boundscheck(False) \n",
    "def calcTotalEnergy2(double[:] x, double[:] y, double[:] z, double lx, double ly, double lz):\n",
    "    assert len(x) == len(y) == len(z)\n",
    "    \n",
    "    cdef double lx2 = lx/2.0\n",
    "    cdef double ly2 = ly/2.0\n",
    "    cdef double lz2 = lz/2.0\n",
    "    \n",
    "    cdef double dx,dy,dz,dist\n",
    "    cdef int num_pos =  x.shape[0]\n",
    "    cdef int i,j\n",
    "    \n",
    "    cdef double U = 0\n",
    "    for i in range(num_pos):\n",
    "        for j in range(num_pos):\n",
    "            # We only need to consider each pair once\n",
    "            if i>=j:\n",
    "                continue\n",
    "           \n",
    "            dx = fabs(x[i] - x[j])\n",
    "            dy = fabs(y[i] - y[j])\n",
    "            dz = fabs(z[i] - z[j])\n",
    "                \n",
    "            # The next few lines take care of applying the minimum image convention\n",
    "            # This is neccesary because many/most molecular simulations use periodic boundary conditions\n",
    "            if dx > lx2:\n",
    "                dx -= lx\n",
    "            if dy > ly2:\n",
    "                dy -= ly\n",
    "            if dz > lz2:\n",
    "                dz -= lz\n",
    "                \n",
    "            dist = sqrt(dx*dx + dy*dy + dz*dz)\n",
    "            U += potentialEnergyFunk2(dist)\n",
    "    \n",
    "    return U\n",
    "                "
   ]
  },
  {
   "cell_type": "markdown",
   "metadata": {},
   "source": [
    "Runtime profiling!"
   ]
  },
  {
   "cell_type": "code",
   "execution_count": null,
   "metadata": {
    "ExecuteTime": {
     "end_time": "2017-08-30T00:21:30.326617Z",
     "start_time": "2017-08-30T00:21:30.209262Z"
    },
    "scrolled": true
   },
   "outputs": [],
   "source": [
    "%%prun -D prof/cython2.prof\n",
    "energy = calcTotalEnergy2(x,y,z,lx,ly,lz)"
   ]
  },
  {
   "cell_type": "code",
   "execution_count": null,
   "metadata": {
    "ExecuteTime": {
     "end_time": "2017-08-30T00:21:30.590237Z",
     "start_time": "2017-08-30T00:21:30.585317Z"
    },
    "collapsed": true
   },
   "outputs": [],
   "source": [
    "with open('energy/cython2.dat','w') as f:\n",
    "    f.write('{}\\n'.format(energy))"
   ]
  },
  {
   "cell_type": "markdown",
   "metadata": {},
   "source": [
    "Memory profiling!"
   ]
  },
  {
   "cell_type": "code",
   "execution_count": null,
   "metadata": {
    "ExecuteTime": {
     "end_time": "2017-08-30T00:21:35.518018Z",
     "start_time": "2017-08-30T00:21:35.117166Z"
    }
   },
   "outputs": [],
   "source": [
    "memprof = %memit -o calcTotalEnergy2(x,y,z,lx,ly,lz)\n",
    "\n",
    "usage = memprof.mem_usage[0]\n",
    "incr = memprof.mem_usage[0] - memprof.baseline\n",
    "with open('prof/cython2.memprof','w') as f:\n",
    "    f.write('{}\\n{}\\n'.format(usage,incr))"
   ]
  },
  {
   "cell_type": "markdown",
   "metadata": {},
   "source": [
    "## Round 3: Parallelized Cython"
   ]
  },
  {
   "cell_type": "code",
   "execution_count": null,
   "metadata": {
    "ExecuteTime": {
     "end_time": "2017-08-30T00:21:36.280352Z",
     "start_time": "2017-08-30T00:21:36.237081Z"
    },
    "collapsed": true
   },
   "outputs": [],
   "source": [
    "%%cython\n",
    "\n",
    "from libc.math cimport fabs,pi,cos,sqrt\n",
    "cimport cython\n",
    "from cython.parallel import prange\n",
    "\n",
    "@cython.cdivision(True) \n",
    "cdef double potentialEnergyFunk3(double r, double width=1.0,double height=10.0) nogil:\n",
    "    cdef double U = 0.0\n",
    "    if r<width:\n",
    "        U = 0.5 * height * (1 + cos(pi*r/width))\n",
    "    return U\n",
    "\n",
    "@cython.boundscheck(False) \n",
    "def calcTotalEnergy3(double[:] x, double[:] y, double[:] z, double lx, double ly, double lz):\n",
    "    assert len(x) == len(y) == len(z)\n",
    "    \n",
    "    cdef double lx2 = lx/2.0\n",
    "    cdef double ly2 = ly/2.0\n",
    "    cdef double lz2 = lz/2.0\n",
    "    \n",
    "    cdef double dx,dy,dz,dist\n",
    "    cdef int num_pos =  x.shape[0]\n",
    "    cdef int i,j\n",
    "    \n",
    "    cdef double U = 0\n",
    "    for i in prange(num_pos-1,schedule='guided',nogil=True):\n",
    "        for j in range(i+1,num_pos):\n",
    "           \n",
    "            dx = fabs(x[i] - x[j])\n",
    "            dy = fabs(y[i] - y[j])\n",
    "            dz = fabs(z[i] - z[j])\n",
    "                \n",
    "            # Note the changes I had to make in the next 6 lines\n",
    "            # compared to above. This has to do with how cython/OpenMP\n",
    "            # shares data amongst threads\n",
    "            if dx > lx2:\n",
    "                dx = dx - lx\n",
    "            if dy > ly2:\n",
    "                dy = dy - ly\n",
    "            if dz > lz2:\n",
    "                dz = dz - lz\n",
    "                \n",
    "            dist = sqrt(dx*dx + dy*dy + dz*dz)\n",
    "            U += potentialEnergyFunk3(dist)\n",
    "    \n",
    "    return U\n",
    "                "
   ]
  },
  {
   "cell_type": "markdown",
   "metadata": {},
   "source": [
    "Runtime profiling!"
   ]
  },
  {
   "cell_type": "code",
   "execution_count": null,
   "metadata": {
    "ExecuteTime": {
     "end_time": "2017-08-30T00:21:37.199464Z",
     "start_time": "2017-08-30T00:21:37.100854Z"
    },
    "scrolled": true
   },
   "outputs": [],
   "source": [
    "%%prun -D prof/cython3.prof\n",
    "energy = calcTotalEnergy3(x,y,z,lx,ly,lz)"
   ]
  },
  {
   "cell_type": "code",
   "execution_count": null,
   "metadata": {
    "ExecuteTime": {
     "end_time": "2017-08-30T00:21:37.468193Z",
     "start_time": "2017-08-30T00:21:37.460811Z"
    },
    "collapsed": true
   },
   "outputs": [],
   "source": [
    "with open('energy/cython3.dat','w') as f:\n",
    "    f.write('{}\\n'.format(energy))"
   ]
  },
  {
   "cell_type": "markdown",
   "metadata": {},
   "source": [
    "Memory profiling!"
   ]
  },
  {
   "cell_type": "code",
   "execution_count": null,
   "metadata": {
    "ExecuteTime": {
     "end_time": "2017-08-30T00:21:41.818635Z",
     "start_time": "2017-08-30T00:21:41.450435Z"
    }
   },
   "outputs": [],
   "source": [
    "memprof = %memit -o calcTotalEnergy3(x,y,z,lx,ly,lz)\n",
    "\n",
    "usage = memprof.mem_usage[0]\n",
    "incr = memprof.mem_usage[0] - memprof.baseline\n",
    "with open('prof/cython3.memprof','w') as f:\n",
    "    f.write('{}\\n{}\\n'.format(usage,incr))"
   ]
  },
  {
   "cell_type": "code",
   "execution_count": null,
   "metadata": {
    "collapsed": true
   },
   "outputs": [],
   "source": []
  }
 ],
 "metadata": {
  "kernelspec": {
   "display_name": "Python 3",
   "language": "python",
   "name": "python3"
  },
  "language_info": {
   "codemirror_mode": {
    "name": "ipython",
    "version": 3
   },
   "file_extension": ".py",
   "mimetype": "text/x-python",
   "name": "python",
   "nbconvert_exporter": "python",
   "pygments_lexer": "ipython3",
   "version": "3.5.3"
  }
 },
 "nbformat": 4,
 "nbformat_minor": 2
}
