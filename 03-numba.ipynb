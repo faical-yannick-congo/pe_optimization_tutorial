{
 "cells": [
  {
   "cell_type": "markdown",
   "metadata": {},
   "source": [
    "# Numba\n"
   ]
  },
  {
   "cell_type": "code",
   "execution_count": null,
   "metadata": {
    "ExecuteTime": {
     "end_time": "2017-08-30T00:17:24.980665Z",
     "start_time": "2017-08-30T00:17:22.290639Z"
    }
   },
   "outputs": [],
   "source": [
    "%load_ext memory_profiler\n",
    "%load_ext snakeviz\n",
    "%load_ext cython\n",
    "import holoviews as hv\n",
    "hv.extension('bokeh','matplotlib')\n",
    "from IPython.core import debugger\n",
    "ist = debugger.set_trace"
   ]
  },
  {
   "cell_type": "markdown",
   "metadata": {},
   "source": [
    "We load in the position and box information created in the *intro* notebook. If you haven't run that notebook, this line will not work! (You don't have to read the wall of text, just run the cells...)"
   ]
  },
  {
   "cell_type": "code",
   "execution_count": null,
   "metadata": {
    "ExecuteTime": {
     "end_time": "2017-08-30T00:17:25.093518Z",
     "start_time": "2017-08-30T00:17:24.983515Z"
    }
   },
   "outputs": [],
   "source": [
    "import numpy as np\n",
    "pos = np.loadtxt('data/positions.dat')\n",
    "box = np.loadtxt('data/box.dat')\n",
    "\n",
    "x,y,z = map(list,pos.T)\n",
    "lx,ly,lz = box\n",
    "\n",
    "print('Read {:d} positions.'.format(pos.shape[0]))\n",
    "print('x min/max: {:+4.2f}/{:+4.2f}'.format(pos.min(0)[0],pos.max(0)[0]))\n",
    "print('y min/max: {:+4.2f}/{:+4.2f}'.format(pos.min(0)[1],pos.max(0)[1]))\n",
    "print('z min/max: {:+4.2f}/{:+4.2f}'.format(pos.min(0)[2],pos.max(0)[2]))"
   ]
  },
  {
   "cell_type": "markdown",
   "metadata": {},
   "source": [
    "For numba, we use **exactly** the same implementations of code as the Python case, we just decorate the functions with the JIT. First try running with only decorating the *calcTotalEnergy* function. "
   ]
  },
  {
   "cell_type": "code",
   "execution_count": null,
   "metadata": {
    "ExecuteTime": {
     "end_time": "2017-08-30T00:17:31.246849Z",
     "start_time": "2017-08-30T00:17:28.833876Z"
    },
    "collapsed": true
   },
   "outputs": [],
   "source": [
    "from math import cos,pi,sqrt\n",
    "import numba\n",
    "\n",
    "def potentialEnergyFunk1(r,width=1.0,height=10.0):\n",
    "    '''\n",
    "    Calculates the (soft) potential energy between two atoms\n",
    "    \n",
    "    Parameters\n",
    "    ----------\n",
    "    r: float\n",
    "        separation distance between two atoms\n",
    "    height: float\n",
    "        breadth of the potential i.e. where the potential goes to zero\n",
    "    width: float\n",
    "        strength/height of the potential\n",
    "    '''\n",
    "    if r<width:\n",
    "        return 0.5 * height * (1 + cos(pi*r/width))\n",
    "    else:\n",
    "        return 0\n",
    "    \n",
    "from math import sqrt\n",
    "\n",
    "@numba.jit()\n",
    "def calcTotalEnergy1(x,y,z,lx,ly,lz):\n",
    "    '''\n",
    "    Parameters\n",
    "    ----------\n",
    "    x,y,z: lists of floats\n",
    "        1-D lists of cartesian coordinate positions\n",
    "    \n",
    "    lx,ly,lz: floats\n",
    "        simulation box dimensions\n",
    "    '''\n",
    "    \n",
    "    #sanity check\n",
    "    assert len(x) == len(y) == len(z)\n",
    "    \n",
    "    # store half box lengths for minimum image convention\n",
    "    lx2 = lx/2.0\n",
    "    ly2 = ly/2.0\n",
    "    lz2 = lz/2.0\n",
    "    \n",
    "    U = 0\n",
    "    \n",
    "    #The next two loops simply loop over every element in the x, y, and z arrays\n",
    "    for i,(x1,y1,z1) in enumerate(zip(x,y,z)):\n",
    "        for j,(x2,y2,z2) in enumerate(zip(x,y,z)):\n",
    "            \n",
    "            # We only need to consider each pair once\n",
    "            if i>=j:\n",
    "                continue\n",
    "           \n",
    "            dx = abs(x1 - x2)\n",
    "            dy = abs(y1 - y2)\n",
    "            dz = abs(z1 - z2)\n",
    "                \n",
    "            # The next few lines take care of applying the minimum image convention\n",
    "            # This is neccesary because many/most molecular simulations use periodic boundary conditions\n",
    "            if dx > lx2:\n",
    "                dx -= lx\n",
    "            if dy > ly2:\n",
    "                dy -= ly\n",
    "            if dz > lz2:\n",
    "                dz -= lz\n",
    "                \n",
    "            dist = sqrt(dx*dx + dy*dy + dz*dz)\n",
    "            \n",
    "            U += potentialEnergyFunk1(dist)\n",
    "    \n",
    "    return U"
   ]
  },
  {
   "cell_type": "markdown",
   "metadata": {},
   "source": [
    "Runtime profiling!"
   ]
  },
  {
   "cell_type": "code",
   "execution_count": null,
   "metadata": {
    "ExecuteTime": {
     "end_time": "2017-08-30T00:18:11.707360Z",
     "start_time": "2017-08-30T00:17:33.176679Z"
    },
    "scrolled": true
   },
   "outputs": [],
   "source": [
    "%%prun -D prof/numba1.prof\n",
    "energy = calcTotalEnergy1(x,y,z,lx,ly,lz)"
   ]
  },
  {
   "cell_type": "code",
   "execution_count": null,
   "metadata": {
    "ExecuteTime": {
     "end_time": "2017-08-30T00:18:11.718728Z",
     "start_time": "2017-08-30T00:18:11.712578Z"
    },
    "collapsed": true
   },
   "outputs": [],
   "source": [
    "with open('energy/numba1.dat','w') as f:\n",
    "    f.write('{}\\n'.format(energy))"
   ]
  },
  {
   "cell_type": "markdown",
   "metadata": {},
   "source": [
    "Memory profiling!"
   ]
  },
  {
   "cell_type": "code",
   "execution_count": null,
   "metadata": {
    "ExecuteTime": {
     "end_time": "2017-08-30T00:18:45.335097Z",
     "start_time": "2017-08-30T00:18:11.722763Z"
    }
   },
   "outputs": [],
   "source": [
    "memprof = %memit -o calcTotalEnergy1(x,y,z,lx,ly,lz)\n",
    "\n",
    "usage = memprof.mem_usage[0]\n",
    "incr = memprof.mem_usage[0] - memprof.baseline\n",
    "with open('prof/numba1.memprof','w') as f:\n",
    "    f.write('{}\\n{}\\n'.format(usage,incr))"
   ]
  },
  {
   "cell_type": "markdown",
   "metadata": {},
   "source": [
    "## Round Two: Double Wrapping\n",
    "\n",
    "Perhaps this result is disappointing. What happens if we wrap both functions?"
   ]
  },
  {
   "cell_type": "code",
   "execution_count": null,
   "metadata": {
    "ExecuteTime": {
     "end_time": "2017-08-30T00:18:45.507316Z",
     "start_time": "2017-08-30T00:18:45.342339Z"
    },
    "collapsed": true
   },
   "outputs": [],
   "source": [
    "from math import cos,pi,sqrt\n",
    "import numba\n",
    "\n",
    "@numba.jit()\n",
    "def potentialEnergyFunk2(r,width=1.0,height=10.0):\n",
    "    '''\n",
    "    Calculates the (soft) potential energy between two atoms\n",
    "    \n",
    "    Parameters\n",
    "    ----------\n",
    "    r: float\n",
    "        separation distance between two atoms\n",
    "    height: float\n",
    "        breadth of the potential i.e. where the potential goes to zero\n",
    "    width: float\n",
    "        strength/height of the potential\n",
    "    '''\n",
    "    if r<width:\n",
    "        return 0.5 * height * (1 + cos(pi*r/width))\n",
    "    else:\n",
    "        return 0\n",
    "    \n",
    "from math import sqrt\n",
    "\n",
    "@numba.jit()\n",
    "def calcTotalEnergy2(x,y,z,lx,ly,lz):\n",
    "    '''\n",
    "    Parameters\n",
    "    ----------\n",
    "    x,y,z: lists of floats\n",
    "        1-D lists of cartesian coordinate positions\n",
    "    \n",
    "    lx,ly,lz: floats\n",
    "        simulation box dimensions\n",
    "    '''\n",
    "    \n",
    "    #sanity check\n",
    "    assert len(x) == len(y) == len(z)\n",
    "    \n",
    "    # store half box lengths for minimum image convention\n",
    "    lx2 = lx/2.0\n",
    "    ly2 = ly/2.0\n",
    "    lz2 = lz/2.0\n",
    "    \n",
    "    U = 0\n",
    "    \n",
    "    #The next two loops simply loop over every element in the x, y, and z arrays\n",
    "    for i,(x1,y1,z1) in enumerate(zip(x,y,z)):\n",
    "        for j,(x2,y2,z2) in enumerate(zip(x,y,z)):\n",
    "            \n",
    "            # We only need to consider each pair once\n",
    "            if i>=j:\n",
    "                continue\n",
    "           \n",
    "            dx = abs(x1 - x2)\n",
    "            dy = abs(y1 - y2)\n",
    "            dz = abs(z1 - z2)\n",
    "                \n",
    "            # The next few lines take care of applying the minimum image convention\n",
    "            # This is neccesary because many/most molecular simulations use periodic boundary conditions\n",
    "            if dx > lx2:\n",
    "                dx -= lx\n",
    "            if dy > ly2:\n",
    "                dy -= ly\n",
    "            if dz > lz2:\n",
    "                dz -= lz\n",
    "                \n",
    "            dist = sqrt(dx*dx + dy*dy + dz*dz)\n",
    "            \n",
    "            U += potentialEnergyFunk2(dist)\n",
    "    \n",
    "    return U"
   ]
  },
  {
   "cell_type": "markdown",
   "metadata": {},
   "source": [
    "Runtime profiling!"
   ]
  },
  {
   "cell_type": "code",
   "execution_count": null,
   "metadata": {
    "ExecuteTime": {
     "end_time": "2017-08-30T00:18:46.483101Z",
     "start_time": "2017-08-30T00:18:45.510554Z"
    },
    "scrolled": false
   },
   "outputs": [],
   "source": [
    "%%prun -D prof/numba2.prof\n",
    "energy = calcTotalEnergy2(x,y,z,lx,ly,lz)"
   ]
  },
  {
   "cell_type": "code",
   "execution_count": null,
   "metadata": {
    "ExecuteTime": {
     "end_time": "2017-08-30T00:18:46.493626Z",
     "start_time": "2017-08-30T00:18:46.488251Z"
    },
    "collapsed": true
   },
   "outputs": [],
   "source": [
    "with open('energy/numba2.dat','w') as f:\n",
    "    f.write('{}\\n'.format(energy))"
   ]
  },
  {
   "cell_type": "markdown",
   "metadata": {},
   "source": [
    "Memory profiling!"
   ]
  },
  {
   "cell_type": "code",
   "execution_count": null,
   "metadata": {
    "ExecuteTime": {
     "end_time": "2017-08-30T00:18:47.061120Z",
     "start_time": "2017-08-30T00:18:46.497821Z"
    }
   },
   "outputs": [],
   "source": [
    "memprof = %memit -o calcTotalEnergy2(x,y,z,lx,ly,lz)\n",
    "\n",
    "usage = memprof.mem_usage[0]\n",
    "incr = memprof.mem_usage[0] - memprof.baseline\n",
    "with open('prof/numba2.memprof','w') as f:\n",
    "    f.write('{}\\n{}\\n'.format(usage,incr))"
   ]
  },
  {
   "cell_type": "markdown",
   "metadata": {},
   "source": [
    "## Round 3: Numba + Numpy?\n",
    "\n",
    "So, a typical workflow might be to write your code with Python + Numpy and then wrap slow functions with the numba jit. What happens if we wrap a function using Numpy?"
   ]
  },
  {
   "cell_type": "code",
   "execution_count": null,
   "metadata": {
    "ExecuteTime": {
     "end_time": "2017-08-30T00:18:47.168059Z",
     "start_time": "2017-08-30T00:18:47.064809Z"
    },
    "collapsed": true
   },
   "outputs": [],
   "source": [
    "import numba\n",
    "import numpy as np\n",
    "\n",
    "@numba.jit()\n",
    "def potentialEnergyFunk3(r,width=1.0,height=10.0):\n",
    "    '''\n",
    "    Calculates the (soft) potential energy between two atoms\n",
    "    \n",
    "    Parameters\n",
    "    ----------\n",
    "    r: ndarray (float)\n",
    "        separation distances between two atoms\n",
    "    height: float\n",
    "        breadth of the potential i.e. where the potential goes to zero\n",
    "    width: float\n",
    "        strength/height of the potential\n",
    "    '''\n",
    "    U = np.zeros_like(r)\n",
    "    mask = (r<width) #only do calculation below the cutoff width\n",
    "    U[mask] = 0.5 * height * (1 + np.cos(np.pi*r[mask]/width))\n",
    "    return U\n",
    "\n",
    "@numba.jit()\n",
    "def calcTotalEnergy3(pos,box):\n",
    "    '''\n",
    "    Parameters\n",
    "    ----------\n",
    "    pos: ndarray, size (N,3), (float)\n",
    "        array of cartesian coordinate positions\n",
    "    \n",
    "    box: ndarray, size (3), (float)\n",
    "        simulation box dimensions\n",
    "    '''\n",
    "    \n",
    "    #sanity check\n",
    "    assert box.shape[0] == 3\n",
    "    \n",
    "    # This next line is rather unpythonic but essentially it convinces\n",
    "    # numpy to perform a subtraction between the full Cartesian Product\n",
    "    # of the positions array\n",
    "    dr = np.abs(pos - pos[:,np.newaxis,:])\n",
    "    \n",
    "    #extract out upper triangle\n",
    "    dr = dr[np.triu_indices(dr.shape[0],k=1)]  #<<<<<<<\n",
    "    \n",
    "    #still need to apply periodic boundary conditions\n",
    "    dr = np.where(dr>box/2.0,dr-box,dr)\n",
    "        \n",
    "    dist = np.sqrt(np.sum(np.square(dr),axis=-1))\n",
    "    \n",
    "    # calculate the full N x N distance matrix\n",
    "    U = potentialEnergyFunk3(dist)\n",
    "    \n",
    "    return U.sum()  "
   ]
  },
  {
   "cell_type": "code",
   "execution_count": null,
   "metadata": {
    "ExecuteTime": {
     "end_time": "2017-08-30T00:18:52.332858Z",
     "start_time": "2017-08-30T00:18:47.173724Z"
    },
    "scrolled": false
   },
   "outputs": [],
   "source": [
    "%%prun -D prof/numba3.prof\n",
    "energy = calcTotalEnergy3(pos,box)"
   ]
  },
  {
   "cell_type": "code",
   "execution_count": null,
   "metadata": {
    "ExecuteTime": {
     "end_time": "2017-08-30T00:18:52.343499Z",
     "start_time": "2017-08-30T00:18:52.337623Z"
    },
    "collapsed": true
   },
   "outputs": [],
   "source": [
    "with open('energy/numba3.dat','w') as f:\n",
    "    f.write('{}\\n'.format(energy))"
   ]
  },
  {
   "cell_type": "markdown",
   "metadata": {},
   "source": [
    "Memory profiling!"
   ]
  },
  {
   "cell_type": "code",
   "execution_count": null,
   "metadata": {
    "ExecuteTime": {
     "end_time": "2017-08-30T00:18:56.560909Z",
     "start_time": "2017-08-30T00:18:52.346786Z"
    }
   },
   "outputs": [],
   "source": [
    "memprof = %memit -o calcTotalEnergy3(pos,box)\n",
    "\n",
    "usage = memprof.mem_usage[0]\n",
    "incr = memprof.mem_usage[0] - memprof.baseline\n",
    "with open('prof/numba3.memprof','w') as f:\n",
    "    f.write('{}\\n{}\\n'.format(usage,incr))"
   ]
  },
  {
   "cell_type": "code",
   "execution_count": null,
   "metadata": {
    "collapsed": true
   },
   "outputs": [],
   "source": []
  }
 ],
 "metadata": {
  "kernelspec": {
   "display_name": "Python 3",
   "language": "python",
   "name": "python3"
  },
  "language_info": {
   "codemirror_mode": {
    "name": "ipython",
    "version": 3
   },
   "file_extension": ".py",
   "mimetype": "text/x-python",
   "name": "python",
   "nbconvert_exporter": "python",
   "pygments_lexer": "ipython3",
   "version": "3.5.3"
  }
 },
 "nbformat": 4,
 "nbformat_minor": 2
}
