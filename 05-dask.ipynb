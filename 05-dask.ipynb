{
 "cells": [
  {
   "cell_type": "markdown",
   "metadata": {},
   "source": [
    "# Dask"
   ]
  },
  {
   "cell_type": "code",
   "execution_count": null,
   "metadata": {
    "ExecuteTime": {
     "end_time": "2017-08-30T01:24:46.397800Z",
     "start_time": "2017-08-30T01:24:43.295537Z"
    }
   },
   "outputs": [],
   "source": [
    "%load_ext memory_profiler\n",
    "%load_ext snakeviz\n",
    "%load_ext cython\n",
    "import holoviews as hv\n",
    "hv.extension('bokeh','matplotlib')\n",
    "from IPython.core import debugger\n",
    "ist = debugger.set_trace"
   ]
  },
  {
   "cell_type": "markdown",
   "metadata": {},
   "source": [
    "We load in the position and box information created in the *intro* notebook. If you haven't run that notebook, this line will not work! (You don't have to read the wall of text, just run the cells...)"
   ]
  },
  {
   "cell_type": "markdown",
   "metadata": {},
   "source": [
    "## Round 0: Dask Bag Sandbox"
   ]
  },
  {
   "cell_type": "code",
   "execution_count": null,
   "metadata": {
    "ExecuteTime": {
     "end_time": "2017-08-30T01:24:46.435532Z",
     "start_time": "2017-08-30T01:24:46.408279Z"
    }
   },
   "outputs": [],
   "source": [
    "import numpy as np\n",
    "num = 3\n",
    "lmin = -25 #lower simulation box bound in x, y, and z\n",
    "lmax = +25 #upper simulation box bound in x, y, and z\n",
    "\n",
    "L = lmax - lmin\n",
    "box = np.array([L,L,L])\n",
    "pos = lmin + np.random.random((num,3))*(lmax-lmin)\n",
    "\n",
    "lx = box[0]\n",
    "ly = box[1]\n",
    "lz = box[2]\n",
    "lx2 = box[0]/2.0\n",
    "ly2 = box[1]/2.0\n",
    "lz2 = box[2]/2.0\n",
    "\n",
    "print('Read {:d} positions.'.format(pos.shape[0]))\n",
    "print('x min/max: {:+4.2f}/{:+4.2f}'.format(pos.min(0)[0],pos.max(0)[0]))\n",
    "print('y min/max: {:+4.2f}/{:+4.2f}'.format(pos.min(0)[1],pos.max(0)[1]))\n",
    "print('z min/max: {:+4.2f}/{:+4.2f}'.format(pos.min(0)[2],pos.max(0)[2]))"
   ]
  },
  {
   "cell_type": "code",
   "execution_count": null,
   "metadata": {
    "ExecuteTime": {
     "end_time": "2017-08-30T01:24:46.559387Z",
     "start_time": "2017-08-30T01:24:46.437933Z"
    }
   },
   "outputs": [],
   "source": [
    "from math import cos,pi,sqrt\n",
    "import numpy as np\n",
    "import dask.bag as db\n",
    "import dask\n",
    "\n",
    "def potentialEnergyFunk(r,width=1.0,height=10.0):\n",
    "    '''\n",
    "    Calculates the (soft) potential energy between two atoms\n",
    "    \n",
    "    Parameters\n",
    "    ----------\n",
    "    r: float\n",
    "        separation distance between two atoms\n",
    "    height: float\n",
    "        breadth of the potential i.e. where the potential goes to zero\n",
    "    width: float\n",
    "        strength/height of the potential\n",
    "    '''\n",
    "    if r<width:\n",
    "        return 0.5 * height * (1 + cos(pi*r/width))\n",
    "    else:\n",
    "        return 0\n",
    "    \n",
    "\n",
    "def wrap(x):\n",
    "    x = abs(x)\n",
    "    if x[0]>lx2:\n",
    "        x[0]-=lx\n",
    "    if x[1]>ly2:\n",
    "        x[1]-=ly\n",
    "    if x[2]>lz2:\n",
    "        x[2]-=lz\n",
    "    return x\n",
    "\n",
    "def ILessThanJ(ij):\n",
    "    return ij[0]<ij[1]\n",
    "\n",
    "def dXCalc(ij):\n",
    "    return pos[ij[0]] - pos[ij[1]]\n",
    "\n",
    "def dX2Dist(x):\n",
    "    return sqrt(x[0]*x[0] + x[1]*x[1] + x[2]*x[2])\n",
    "\n",
    "def potentialEnergyCutoff(x,width=1.0):\n",
    "    return x<width\n",
    "\n",
    "\n",
    "bag = db.from_sequence(np.arange(pos.shape[0]))\n",
    "\n",
    "future = (bag.product(bag)                   #produce all i-j pairs                                 \n",
    "             .filter(ILessThanJ)             #we only need the i<j pairs\n",
    "             .map(dXCalc)                    #convert the i-j pair to a dx,dy,dz\n",
    "             .map(wrap)                      #need to wrap for box boundaries\n",
    "             .map(dX2Dist)                   #convert wrapped dx,dy,dz to distance\n",
    "             .filter(potentialEnergyCutoff)  #distance cutoff\n",
    "             .map(potentialEnergyFunk)       #potential energy calculation\n",
    "             .sum()\n",
    "         )\n",
    "          \n",
    "result = future.compute(get=dask.threaded.get)\n",
    "result"
   ]
  },
  {
   "cell_type": "code",
   "execution_count": null,
   "metadata": {
    "ExecuteTime": {
     "end_time": "2017-08-30T01:24:46.885843Z",
     "start_time": "2017-08-30T01:24:46.563334Z"
    }
   },
   "outputs": [],
   "source": [
    "#Warning! only run this with number of positions set to ~3\n",
    "future.visualize()"
   ]
  },
  {
   "cell_type": "code",
   "execution_count": null,
   "metadata": {
    "ExecuteTime": {
     "end_time": "2017-08-30T01:16:36.418198Z",
     "start_time": "2017-08-30T01:14:59.584782Z"
    }
   },
   "outputs": [],
   "source": [
    "\n",
    "bag = db.from_sequence(np.arange(pos.shape[0]))\n",
    "\n",
    "future = (bag.product(bag)                   #produce all i-j pairs                                 \n",
    "             .filter(ILessThanJ)             #we only need the i<j pairs\n",
    "             .map(dXCalc)                    #convert the i-j pair to a dx,dy,dz\n",
    "             .map(wrap)                      #need to wrap for box boundaries\n",
    "             .map(dX2Dist)                   #convert wrapped dx,dy,dz to distance\n",
    "             .filter(potentialEnergyCutoff)  #distance cutoff\n",
    "             .map(potentialEnergyFunk)       #potential energy calculation\n",
    "             .sum()\n",
    "         )\n",
    "          \n",
    "result = future.compute(get=dask.threaded.get)\n",
    "result"
   ]
  },
  {
   "cell_type": "code",
   "execution_count": null,
   "metadata": {
    "collapsed": true
   },
   "outputs": [],
   "source": []
  },
  {
   "cell_type": "markdown",
   "metadata": {},
   "source": [
    "## Round 1: Dask Bag"
   ]
  },
  {
   "cell_type": "code",
   "execution_count": null,
   "metadata": {
    "ExecuteTime": {
     "end_time": "2017-08-30T01:24:50.695287Z",
     "start_time": "2017-08-30T01:24:50.582810Z"
    }
   },
   "outputs": [],
   "source": [
    "import numpy as np\n",
    "pos = np.loadtxt('data/positions.dat')\n",
    "box = np.loadtxt('data/box.dat')\n",
    "\n",
    "lx = box[0]\n",
    "ly = box[1]\n",
    "lz = box[2]\n",
    "lx2 = box[0]/2.0\n",
    "ly2 = box[1]/2.0\n",
    "lz2 = box[2]/2.0\n",
    "\n",
    "print('Read {:d} positions.'.format(pos.shape[0]))\n",
    "print('x min/max: {:+4.2f}/{:+4.2f}'.format(pos.min(0)[0],pos.max(0)[0]))\n",
    "print('y min/max: {:+4.2f}/{:+4.2f}'.format(pos.min(0)[1],pos.max(0)[1]))\n",
    "print('z min/max: {:+4.2f}/{:+4.2f}'.format(pos.min(0)[2],pos.max(0)[2]))"
   ]
  },
  {
   "cell_type": "code",
   "execution_count": null,
   "metadata": {
    "ExecuteTime": {
     "end_time": "2017-08-30T01:04:01.348168Z",
     "start_time": "2017-08-30T01:02:28.750448Z"
    }
   },
   "outputs": [],
   "source": [
    "import numpy as np\n",
    "import dask.bag as db\n",
    "import dask\n",
    "\n",
    "lx = box[0]\n",
    "ly = box[1]\n",
    "lz = box[2]\n",
    "lx2 = box[0]/2.0\n",
    "ly2 = box[1]/2.0\n",
    "lz2 = box[2]/2.0\n",
    "\n",
    "def wrap(x):\n",
    "    if x[0]>lx2:\n",
    "        x[0]-=lx\n",
    "    if x[1]>ly2:\n",
    "        x[1]-=ly\n",
    "    if x[2]>lz2:\n",
    "        x[2]-=lz\n",
    "    return x\n",
    "\n",
    "def iLessThanJ(x):\n",
    "    return x[0]<x[1]\n",
    "\n",
    "bag = db.from_sequence(np.arange(pos.shape[0]))\n",
    "\n",
    "future = (bag.product(bag)                                                    #produce all i-j pairs                                 \n",
    "             .filter(lambda i: i[0]<i[1])                                     #we only need the i<j pairs\n",
    "             .map(lambda i: abs(pos[i[0]] - pos[i[1]]))                       #convert the i-j pair to a dx,dy,dz\n",
    "             .map(wrap)                                                       #need to wrap for box boundaries\n",
    "             .map(lambda x: sqrt(x[0]*x[0] + x[1]*x[1] + x[2]*x[2]))          #convert wrapped dx,dy,dz to distance\n",
    "             .filter(lambda dist: dist<width)                                 #distance cutoff\n",
    "             .map(potentialEnergyFunk)  #potential energy calculation\n",
    "             .sum()\n",
    "         )\n",
    "          \n",
    "result = future.compute(get=dask.threaded.get)\n",
    "result"
   ]
  },
  {
   "cell_type": "code",
   "execution_count": null,
   "metadata": {
    "ExecuteTime": {
     "end_time": "2017-08-30T01:41:49.132545Z",
     "start_time": "2017-08-30T01:41:49.070425Z"
    }
   },
   "outputs": [],
   "source": [
    "from math import cos,pi,sqrt\n",
    "import numpy as np\n",
    "import dask.bag as db\n",
    "import dask\n",
    "\n",
    "def potentialEnergyFunk(r,width=1.0,height=10.0):\n",
    "    '''\n",
    "    Calculates the (soft) potential energy between two atoms\n",
    "    \n",
    "    Parameters\n",
    "    ----------\n",
    "    r: float\n",
    "        separation distance between two atoms\n",
    "    height: float\n",
    "        breadth of the potential i.e. where the potential goes to zero\n",
    "    width: float\n",
    "        strength/height of the potential\n",
    "    '''\n",
    "    if r<width:\n",
    "        return 0.5 * height * (1 + cos(pi*r/width))\n",
    "    else:\n",
    "        return 0\n",
    "    \n",
    "\n",
    "def wrap(x):\n",
    "    x = abs(x)\n",
    "    if x[0]>lx2:\n",
    "        x[0]-=lx\n",
    "    if x[1]>ly2:\n",
    "        x[1]-=ly\n",
    "    if x[2]>lz2:\n",
    "        x[2]-=lz\n",
    "    return x\n",
    "\n",
    "def ILessThanJ(ij):\n",
    "    return ij[0]<ij[1]\n",
    "\n",
    "def dXCalc(ij):\n",
    "    return pos[ij[0]] - pos[ij[1]]\n",
    "\n",
    "def dX2Dist(x):\n",
    "    return sqrt(x[0]*x[0] + x[1]*x[1] + x[2]*x[2])\n",
    "\n",
    "def potentialEnergyCutoff(x,width=1.0):\n",
    "    return x<width\n"
   ]
  },
  {
   "cell_type": "code",
   "execution_count": null,
   "metadata": {
    "ExecuteTime": {
     "end_time": "2017-08-30T01:43:22.848639Z",
     "start_time": "2017-08-30T01:41:49.940577Z"
    }
   },
   "outputs": [],
   "source": [
    "bag = db.from_sequence(np.arange(pos.shape[0]))\n",
    "\n",
    "future = (bag.product(bag)                   #produce all i-j pairs                                 \n",
    "             .filter(ILessThanJ)             #we only need the i<j pairs\n",
    "             .map(dXCalc)                    #convert the i-j pair to a dx,dy,dz\n",
    "             .map(wrap)                      #need to wrap for box boundaries\n",
    "             .map(dX2Dist)                   #convert wrapped dx,dy,dz to distance\n",
    "             .filter(potentialEnergyCutoff)  #distance cutoff\n",
    "             .map(potentialEnergyFunk)       #potential energy calculation\n",
    "             .sum()\n",
    "         )\n",
    "          \n",
    "energy = future.compute(get=dask.threaded.get)\n",
    "energy"
   ]
  },
  {
   "cell_type": "code",
   "execution_count": null,
   "metadata": {
    "ExecuteTime": {
     "end_time": "2017-08-30T01:44:57.536891Z",
     "start_time": "2017-08-30T01:43:22.851491Z"
    }
   },
   "outputs": [],
   "source": [
    "%%prun -D prof/dask.prof\n",
    "\n",
    "bag = db.from_sequence(np.arange(pos.shape[0]))\n",
    "\n",
    "future = (bag.product(bag)                   #produce all i-j pairs                                 \n",
    "             .filter(ILessThanJ)             #we only need the i<j pairs\n",
    "             .map(dXCalc)                    #convert the i-j pair to a dx,dy,dz\n",
    "             .map(wrap)                      #need to wrap for box boundaries\n",
    "             .map(dX2Dist)                   #convert wrapped dx,dy,dz to distance\n",
    "             .filter(potentialEnergyCutoff)  #distance cutoff\n",
    "             .map(potentialEnergyFunk)       #potential energy calculation\n",
    "             .sum()\n",
    "         )\n",
    "          \n",
    "energy = future.compute(get=dask.threaded.get)\n",
    "energy"
   ]
  },
  {
   "cell_type": "code",
   "execution_count": null,
   "metadata": {
    "collapsed": true
   },
   "outputs": [],
   "source": []
  }
 ],
 "metadata": {
  "kernelspec": {
   "display_name": "Python 3",
   "language": "python",
   "name": "python3"
  },
  "language_info": {
   "codemirror_mode": {
    "name": "ipython",
    "version": 3
   },
   "file_extension": ".py",
   "mimetype": "text/x-python",
   "name": "python",
   "nbconvert_exporter": "python",
   "pygments_lexer": "ipython3",
   "version": "3.5.3"
  }
 },
 "nbformat": 4,
 "nbformat_minor": 2
}
